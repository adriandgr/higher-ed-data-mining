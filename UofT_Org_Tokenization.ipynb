{
 "cells": [
  {
   "cell_type": "code",
   "execution_count": 1,
   "metadata": {},
   "outputs": [
    {
     "name": "stdout",
     "output_type": "stream",
     "text": [
      "(1401, 43)\n"
     ]
    },
    {
     "data": {
      "text/html": [
       "<div>\n",
       "<style scoped>\n",
       "    .dataframe tbody tr th:only-of-type {\n",
       "        vertical-align: middle;\n",
       "    }\n",
       "\n",
       "    .dataframe tbody tr th {\n",
       "        vertical-align: top;\n",
       "    }\n",
       "\n",
       "    .dataframe thead th {\n",
       "        text-align: right;\n",
       "    }\n",
       "</style>\n",
       "<table border=\"1\" class=\"dataframe\">\n",
       "  <thead>\n",
       "    <tr style=\"text-align: right;\">\n",
       "      <th></th>\n",
       "      <th>org_name</th>\n",
       "      <th>organization_type</th>\n",
       "      <th>description</th>\n",
       "      <th>areas_of_interest</th>\n",
       "    </tr>\n",
       "  </thead>\n",
       "  <tbody>\n",
       "    <tr>\n",
       "      <th>0</th>\n",
       "      <td>A.Taj Aerospace medicine  (A.Taj)</td>\n",
       "      <td>Recognized Student Group</td>\n",
       "      <td>In my opinion human race is really behind in research related to our health in space as we are mainly focusing on human health on earth.\\nOur asso...</td>\n",
       "      <td>['Academic', 'Global Interests', 'Media']</td>\n",
       "    </tr>\n",
       "    <tr>\n",
       "      <th>1</th>\n",
       "      <td>Academia Musica Historica (AMH)</td>\n",
       "      <td>Recognized Student Group</td>\n",
       "      <td>The purpose of ‘Academia Musica Historica’ is aimed at bringing together students with a common interest in historical music here at the Universit...</td>\n",
       "      <td>['Academic', 'Arts', 'Social']</td>\n",
       "    </tr>\n",
       "    <tr>\n",
       "      <th>2</th>\n",
       "      <td>Academic Alliance at the University of Toronto</td>\n",
       "      <td>Recognized Student Group</td>\n",
       "      <td>Academic Alliance at the University of Toronto aims to provide immediate front-line peer support to students who are struggling academically at th...</td>\n",
       "      <td>['Academic', 'Community Service', 'Social Justice/Advocacy']</td>\n",
       "    </tr>\n",
       "  </tbody>\n",
       "</table>\n",
       "</div>"
      ],
      "text/plain": [
       "                                         org_name         organization_type  \\\n",
       "0               A.Taj Aerospace medicine  (A.Taj)  Recognized Student Group   \n",
       "1                 Academia Musica Historica (AMH)  Recognized Student Group   \n",
       "2  Academic Alliance at the University of Toronto  Recognized Student Group   \n",
       "\n",
       "                                                                                                                                             description  \\\n",
       "0  In my opinion human race is really behind in research related to our health in space as we are mainly focusing on human health on earth.\\nOur asso...   \n",
       "1  The purpose of ‘Academia Musica Historica’ is aimed at bringing together students with a common interest in historical music here at the Universit...   \n",
       "2  Academic Alliance at the University of Toronto aims to provide immediate front-line peer support to students who are struggling academically at th...   \n",
       "\n",
       "                                              areas_of_interest  \n",
       "0                     ['Academic', 'Global Interests', 'Media']  \n",
       "1                                ['Academic', 'Arts', 'Social']  \n",
       "2  ['Academic', 'Community Service', 'Social Justice/Advocacy']  "
      ]
     },
     "execution_count": 1,
     "metadata": {},
     "output_type": "execute_result"
    }
   ],
   "source": [
    "from collections import Counter\n",
    "from language_api import detect_language\n",
    "import pandas as pd, numpy as np, re, nltk\n",
    "\n",
    "pd.options.display.max_colwidth = 150\n",
    "\n",
    "df = pd.read_csv('datasets/edu/uoft_sudent_organizations.tsv', sep='\\t', dtype=object)\n",
    "show_cols = ['org_name', 'organization_type','description', 'areas_of_interest']\n",
    "print(df.shape)\n",
    "df.head(3)[show_cols]"
   ]
  },
  {
   "cell_type": "code",
   "execution_count": 2,
   "metadata": {},
   "outputs": [
    {
     "data": {
      "text/plain": [
       "array(['‘', '’', '–', '“', '”', 'ó', '•', '：', '\\xa0', '—', 'é', 'á', 'í',\n",
       "       'É', '歌', '之', '王', '）', 'ū', '竹', '内', '流', '備', '中', '伝', '‐',\n",
       "       'è', 'Â', '‚', '…', 'ç', 'à', '℠', '\\uf06c', '﴾', '﴿', '●', 'ộ',\n",
       "       'ê', 'ệ', 'Đ', 'ạ', 'ọ', 'ổ', 'ứ', 'ợ', 'ậ', 'đ', 'ư', 'ă', 'ừ',\n",
       "       'ắ', 'ầ', 'ã', 'ề', 'ụ', 'ì', 'ữ', 'ả', 'ô', 'ằ', 'ế', 'ự', 'ồ',\n",
       "       'ớ', 'ỉ', 'ố', 'ơ', 'ờ', 'ũ', 'ấ', 'ỹ', 'ỗ', 'ể', 'ù', 'ị', 'ễ',\n",
       "       'ủ'], dtype=object)"
      ]
     },
     "execution_count": 2,
     "metadata": {},
     "output_type": "execute_result"
    }
   ],
   "source": [
    "non_ascii_chars = '[^\\x00-\\x7F]'\n",
    "mask = df.description.str.contains(non_ascii_chars, na=False)\n",
    "(df[mask].description.str.extractall(f'({non_ascii_chars})').reset_index(level=0, drop=True)[0].unique())"
   ]
  },
  {
   "cell_type": "code",
   "execution_count": 3,
   "metadata": {},
   "outputs": [],
   "source": [
    "# Clean up text using output above as guidance\n",
    "replacements = [('[\\r\\n\\t\\s]+', ' '),  # strip excess whitespace\n",
    "                ('[‘’´]', '\\''), ('[“”]', '\"'), ('[‐–—•●]', '-'), ('﴾', '('), \n",
    "                ('[﴿）]', ')'), ('[℠\\uf06c]|Â‚', ''), ('：', ':'), ('…', '...')]\n",
    "\n",
    "for replace, replace_with in replacements:\n",
    "    df.description.replace(replace, replace_with, regex=True, inplace=True)\n",
    "df.description = df.description.str.strip()"
   ]
  },
  {
   "cell_type": "code",
   "execution_count": 4,
   "metadata": {},
   "outputs": [
    {
     "data": {
      "text/html": [
       "<div>\n",
       "<style scoped>\n",
       "    .dataframe tbody tr th:only-of-type {\n",
       "        vertical-align: middle;\n",
       "    }\n",
       "\n",
       "    .dataframe tbody tr th {\n",
       "        vertical-align: top;\n",
       "    }\n",
       "\n",
       "    .dataframe thead th {\n",
       "        text-align: right;\n",
       "    }\n",
       "</style>\n",
       "<table border=\"1\" class=\"dataframe\">\n",
       "  <thead>\n",
       "    <tr style=\"text-align: right;\">\n",
       "      <th></th>\n",
       "      <th>description</th>\n",
       "    </tr>\n",
       "  </thead>\n",
       "  <tbody>\n",
       "    <tr>\n",
       "      <th>125</th>\n",
       "      <td>Brazilian Relations is a group designed to strengthen the relations of the Brazilian community in Toronto. Our goal is to create a network between...</td>\n",
       "    </tr>\n",
       "    <tr>\n",
       "      <th>137</th>\n",
       "      <td>Café Bioethics is a safe space where individuals, who do not necessarily have a background in bioethics, medicine, or law, may participate in deli...</td>\n",
       "    </tr>\n",
       "    <tr>\n",
       "      <th>139</th>\n",
       "      <td>The purpose of the Campus Association for Baha'i Studies will be to study the teachings, history, and philosophy of the Bahá'í Faith, and to explo...</td>\n",
       "    </tr>\n",
       "    <tr>\n",
       "      <th>140</th>\n",
       "      <td>The Campus Association for Bahá'í Studies at the University of Toronto St. George shall study the teachings, history, and philosophy of the Bahá'í...</td>\n",
       "    </tr>\n",
       "    <tr>\n",
       "      <th>159</th>\n",
       "      <td>The purpose of the Cantonese Promotion Club will be to promote Cantonese language and culture, and traditional Chinese writing and culture to all ...</td>\n",
       "    </tr>\n",
       "    <tr>\n",
       "      <th>203</th>\n",
       "      <td>The Chinese Hip-hop Club is mainly comprised of UofT students who are interested in the various music cultures (Rap, EDM, RMB, Instrumental music,...</td>\n",
       "    </tr>\n",
       "    <tr>\n",
       "      <th>233</th>\n",
       "      <td>We focus on the practice of classical Japanese martial arts. We mainly study the koryu style known as Takenouchi-ryū Bitchū Den 竹内流 備中伝. The style...</td>\n",
       "    </tr>\n",
       "    <tr>\n",
       "      <th>353</th>\n",
       "      <td>Les Étudiants Francophones de l'Université de Toronto - Mississauga (ÉFUTM) is a conversation and social club for students of all levels of French...</td>\n",
       "    </tr>\n",
       "    <tr>\n",
       "      <th>395</th>\n",
       "      <td>The Friends of Médecins Sans Frontières - University of Toronto chapter is a student organisation fully affiliated with MSF Canada. Our mandate is...</td>\n",
       "    </tr>\n",
       "    <tr>\n",
       "      <th>676</th>\n",
       "      <td>MediFilm is a student run organization that aims to help students through the therapeutic effects of films. Similar to the positive effects of mus...</td>\n",
       "    </tr>\n",
       "    <tr>\n",
       "      <th>828</th>\n",
       "      <td>RefugeAid UofT provides humanitarian aid in collaboration with Médecins Sans Frontières/Doctors without Borders (MSF) and the United Nations High ...</td>\n",
       "    </tr>\n",
       "    <tr>\n",
       "      <th>978</th>\n",
       "      <td>SOS is a national student-led charity made up of a network of student volunteers working through university chapters to coordinate and conduct Exa...</td>\n",
       "    </tr>\n",
       "    <tr>\n",
       "      <th>1025</th>\n",
       "      <td>L'Association des étudiants du département français assure la liaison entre les étudiants et les professeurs de français à UTSC . Les membres de c...</td>\n",
       "    </tr>\n",
       "    <tr>\n",
       "      <th>1349</th>\n",
       "      <td>Hội Sinh Viên Việt Nam Đại Học Toronto (UTVSA) là một tổ chức phi lợi nhuận được thành lập vào năm 1981. Từ khi bắt đầu, hội đã đề ra mục tiêu gìn...</td>\n",
       "    </tr>\n",
       "  </tbody>\n",
       "</table>\n",
       "</div>"
      ],
      "text/plain": [
       "                                                                                                                                                description\n",
       "125   Brazilian Relations is a group designed to strengthen the relations of the Brazilian community in Toronto. Our goal is to create a network between...\n",
       "137   Café Bioethics is a safe space where individuals, who do not necessarily have a background in bioethics, medicine, or law, may participate in deli...\n",
       "139   The purpose of the Campus Association for Baha'i Studies will be to study the teachings, history, and philosophy of the Bahá'í Faith, and to explo...\n",
       "140   The Campus Association for Bahá'í Studies at the University of Toronto St. George shall study the teachings, history, and philosophy of the Bahá'í...\n",
       "159   The purpose of the Cantonese Promotion Club will be to promote Cantonese language and culture, and traditional Chinese writing and culture to all ...\n",
       "203   The Chinese Hip-hop Club is mainly comprised of UofT students who are interested in the various music cultures (Rap, EDM, RMB, Instrumental music,...\n",
       "233   We focus on the practice of classical Japanese martial arts. We mainly study the koryu style known as Takenouchi-ryū Bitchū Den 竹内流 備中伝. The style...\n",
       "353   Les Étudiants Francophones de l'Université de Toronto - Mississauga (ÉFUTM) is a conversation and social club for students of all levels of French...\n",
       "395   The Friends of Médecins Sans Frontières - University of Toronto chapter is a student organisation fully affiliated with MSF Canada. Our mandate is...\n",
       "676   MediFilm is a student run organization that aims to help students through the therapeutic effects of films. Similar to the positive effects of mus...\n",
       "828   RefugeAid UofT provides humanitarian aid in collaboration with Médecins Sans Frontières/Doctors without Borders (MSF) and the United Nations High ...\n",
       "978   SOS is a national student-led charity made up of a network of student volunteers working through university chapters to coordinate and conduct Exa...\n",
       "1025  L'Association des étudiants du département français assure la liaison entre les étudiants et les professeurs de français à UTSC . Les membres de c...\n",
       "1349  Hội Sinh Viên Việt Nam Đại Học Toronto (UTVSA) là một tổ chức phi lợi nhuận được thành lập vào năm 1981. Từ khi bắt đầu, hội đã đề ra mục tiêu gìn..."
      ]
     },
     "execution_count": 4,
     "metadata": {},
     "output_type": "execute_result"
    }
   ],
   "source": [
    "# show all desciptions with non-ascii characters\n",
    "unique_non_ascii = _\n",
    "df[df.description.str.contains('|'.join(unique_non_ascii), na=False)][['description']]#.sample(4).values"
   ]
  },
  {
   "cell_type": "code",
   "execution_count": 13,
   "metadata": {},
   "outputs": [
    {
     "data": {
      "text/html": [
       "<div>\n",
       "<style scoped>\n",
       "    .dataframe tbody tr th:only-of-type {\n",
       "        vertical-align: middle;\n",
       "    }\n",
       "\n",
       "    .dataframe tbody tr th {\n",
       "        vertical-align: top;\n",
       "    }\n",
       "\n",
       "    .dataframe thead th {\n",
       "        text-align: right;\n",
       "    }\n",
       "</style>\n",
       "<table border=\"1\" class=\"dataframe\">\n",
       "  <thead>\n",
       "    <tr style=\"text-align: right;\">\n",
       "      <th></th>\n",
       "      <th>description</th>\n",
       "      <th>lang</th>\n",
       "      <th>lang_long</th>\n",
       "      <th>lang_score</th>\n",
       "      <th>lang_percent</th>\n",
       "      <th>lang_confidence</th>\n",
       "    </tr>\n",
       "  </thead>\n",
       "  <tbody>\n",
       "    <tr>\n",
       "      <th>1299</th>\n",
       "      <td>UTM Pre Dental Club is a group of individuals that are passionate about spreading awareness of dental health, and to fundraise for non profit orga...</td>\n",
       "      <td>en</td>\n",
       "      <td>English</td>\n",
       "      <td>267.85955017090816</td>\n",
       "      <td>100.0</td>\n",
       "      <td>True</td>\n",
       "    </tr>\n",
       "  </tbody>\n",
       "</table>\n",
       "</div>"
      ],
      "text/plain": [
       "                                                                                                                                                description  \\\n",
       "1299  UTM Pre Dental Club is a group of individuals that are passionate about spreading awareness of dental health, and to fundraise for non profit orga...   \n",
       "\n",
       "     lang lang_long          lang_score lang_percent lang_confidence  \n",
       "1299   en   English  267.85955017090816        100.0            True  "
      ]
     },
     "execution_count": 13,
     "metadata": {},
     "output_type": "execute_result"
    }
   ],
   "source": [
    "lang_api_columns = ['lang', 'lang_long', 'lang_score', 'lang_percent', 'lang_confidence']\n",
    "if 'lang' not in df.columns:\n",
    "    for col in lang_api_columns:\n",
    "        df[col] = ''\n",
    "\n",
    "for i in range(100): # Query LanguageLayer API in small batches\n",
    "    mask = (df.lang == '') & ~df.description.isna()\n",
    "    ix = np.r_[df[mask].sample(1).index]\n",
    "    df.loc[ix, lang_api_columns] = (df.loc[ix].description\n",
    "                                      .apply(lambda x: detect_language(x))\n",
    "                                      .apply(pd.Series)\n",
    "                                      .rename(columns={i:v for i, v in enumerate(lang_api_columns)}))\n",
    "df.iloc[ix][['description'] + lang_api_columns] # review last analyzed record"
   ]
  },
  {
   "cell_type": "code",
   "execution_count": 12,
   "metadata": {},
   "outputs": [
    {
     "data": {
      "text/plain": [
       "1401"
      ]
     },
     "execution_count": 12,
     "metadata": {},
     "output_type": "execute_result"
    }
   ],
   "source": [
    "# # Restore Language API data, if needed\n",
    "# df.to_csv('lang_bak.tsv', sep='\\t', index=False)\n",
    "# df[lang_api_columns]= bak[ lang_api_columns]"
   ]
  },
  {
   "cell_type": "code",
   "execution_count": 18,
   "metadata": {},
   "outputs": [
    {
     "data": {
      "image/png": "[encoded data removed]",
      "text/plain": [
       "<Figure size 576x288 with 1 Axes>"
      ]
     },
     "metadata": {
      "needs_background": "light"
     },
     "output_type": "display_data"
    }
   ],
   "source": [
    "df.loc[df.lang_score == '', 'lang_score'] = np.nan\n",
    "df.lang_score = df.lang_score.astype('float64')\n",
    "df.lang_score.hist(figsize=(8,4));"
   ]
  },
  {
   "cell_type": "code",
   "execution_count": 19,
   "metadata": {},
   "outputs": [
    {
     "data": {
      "text/html": [
       "<div>\n",
       "<style scoped>\n",
       "    .dataframe tbody tr th:only-of-type {\n",
       "        vertical-align: middle;\n",
       "    }\n",
       "\n",
       "    .dataframe tbody tr th {\n",
       "        vertical-align: top;\n",
       "    }\n",
       "\n",
       "    .dataframe thead th {\n",
       "        text-align: right;\n",
       "    }\n",
       "</style>\n",
       "<table border=\"1\" class=\"dataframe\">\n",
       "  <thead>\n",
       "    <tr style=\"text-align: right;\">\n",
       "      <th></th>\n",
       "      <th>description</th>\n",
       "      <th>lang</th>\n",
       "      <th>lang_long</th>\n",
       "      <th>lang_score</th>\n",
       "      <th>lang_percent</th>\n",
       "      <th>lang_confidence</th>\n",
       "    </tr>\n",
       "  </thead>\n",
       "  <tbody>\n",
       "    <tr>\n",
       "      <th>1381</th>\n",
       "      <td>ACG Club for Chinese students in UTSC</td>\n",
       "      <td>en</td>\n",
       "      <td>English</td>\n",
       "      <td>19.916814</td>\n",
       "      <td>100.0</td>\n",
       "      <td>True</td>\n",
       "    </tr>\n",
       "    <tr>\n",
       "      <th>445</th>\n",
       "      <td>Graduate Students' Association of Italian Studies (GSAIS)</td>\n",
       "      <td>en</td>\n",
       "      <td>English</td>\n",
       "      <td>26.687031</td>\n",
       "      <td>100.0</td>\n",
       "      <td>False</td>\n",
       "    </tr>\n",
       "    <tr>\n",
       "      <th>1189</th>\n",
       "      <td>U of T Language Exchange Initiative</td>\n",
       "      <td>nl</td>\n",
       "      <td>Dutch</td>\n",
       "      <td>18.447229</td>\n",
       "      <td>100.0</td>\n",
       "      <td>False</td>\n",
       "    </tr>\n",
       "  </tbody>\n",
       "</table>\n",
       "</div>"
      ],
      "text/plain": [
       "                                                    description lang  \\\n",
       "1381                      ACG Club for Chinese students in UTSC   en   \n",
       "445   Graduate Students' Association of Italian Studies (GSAIS)   en   \n",
       "1189                        U of T Language Exchange Initiative   nl   \n",
       "\n",
       "     lang_long  lang_score lang_percent lang_confidence  \n",
       "1381   English   19.916814        100.0            True  \n",
       "445    English   26.687031        100.0           False  \n",
       "1189     Dutch   18.447229        100.0           False  "
      ]
     },
     "execution_count": 19,
     "metadata": {},
     "output_type": "execute_result"
    }
   ],
   "source": [
    "df[df.lang_score < 50].sample(3)[['description'] + lang_api_columns]"
   ]
  },
  {
   "cell_type": "code",
   "execution_count": 20,
   "metadata": {},
   "outputs": [
    {
     "name": "stdout",
     "output_type": "stream",
     "text": [
      "12 groups with N/A descriptions:\n",
      " ['A description has not been provided to the Office of Student Life.'\n",
      " 'A description has not been provided to the Office of Student Affairs.']\n"
     ]
    }
   ],
   "source": [
    "mask = df.description.str.contains('description has not been provided', na=False)\n",
    "print(f'{sum(mask)} groups with N/A descriptions:\\n', df[mask].description.unique())\n",
    "df.loc[mask, 'description'] = np.nan # Remove desciptions not sumitted by the organization\n",
    "df.loc[df.description.isna(), lang_api_columns] = np.nan # clear language info for records with no descripton"
   ]
  },
  {
   "cell_type": "code",
   "execution_count": 21,
   "metadata": {},
   "outputs": [
    {
     "data": {
      "text/html": [
       "<div>\n",
       "<style scoped>\n",
       "    .dataframe tbody tr th:only-of-type {\n",
       "        vertical-align: middle;\n",
       "    }\n",
       "\n",
       "    .dataframe tbody tr th {\n",
       "        vertical-align: top;\n",
       "    }\n",
       "\n",
       "    .dataframe thead th {\n",
       "        text-align: right;\n",
       "    }\n",
       "</style>\n",
       "<table border=\"1\" class=\"dataframe\">\n",
       "  <thead>\n",
       "    <tr style=\"text-align: right;\">\n",
       "      <th></th>\n",
       "      <th>description</th>\n",
       "      <th>lang</th>\n",
       "      <th>lang_long</th>\n",
       "    </tr>\n",
       "  </thead>\n",
       "  <tbody>\n",
       "    <tr>\n",
       "      <th>249</th>\n",
       "      <td>Political</td>\n",
       "      <td>sl</td>\n",
       "      <td>Slovenian</td>\n",
       "    </tr>\n",
       "    <tr>\n",
       "      <th>349</th>\n",
       "      <td>ERINDALE PUNJABI ASSOCIATION</td>\n",
       "      <td>it</td>\n",
       "      <td>Italian</td>\n",
       "    </tr>\n",
       "    <tr>\n",
       "      <th>559</th>\n",
       "      <td>VISION:</td>\n",
       "      <td>sv</td>\n",
       "      <td>Swedish</td>\n",
       "    </tr>\n",
       "    <tr>\n",
       "      <th>1025</th>\n",
       "      <td>L'Association des étudiants du département français assure la liaison entre les étudiants et les professeurs de français à UTSC . Les membres de c...</td>\n",
       "      <td>fr</td>\n",
       "      <td>French</td>\n",
       "    </tr>\n",
       "    <tr>\n",
       "      <th>1189</th>\n",
       "      <td>U of T Language Exchange Initiative</td>\n",
       "      <td>nl</td>\n",
       "      <td>Dutch</td>\n",
       "    </tr>\n",
       "    <tr>\n",
       "      <th>1338</th>\n",
       "      <td>Testing testing</td>\n",
       "      <td>nl</td>\n",
       "      <td>Dutch</td>\n",
       "    </tr>\n",
       "    <tr>\n",
       "      <th>1349</th>\n",
       "      <td>Hội Sinh Viên Việt Nam Đại Học Toronto (UTVSA) là một tổ chức phi lợi nhuận được thành lập vào năm 1981. Từ khi bắt đầu, hội đã đề ra mục tiêu gìn...</td>\n",
       "      <td>vi</td>\n",
       "      <td>Vietnamese</td>\n",
       "    </tr>\n",
       "  </tbody>\n",
       "</table>\n",
       "</div>"
      ],
      "text/plain": [
       "                                                                                                                                                description  \\\n",
       "249                                                                                                                                               Political   \n",
       "349                                                                                                                            ERINDALE PUNJABI ASSOCIATION   \n",
       "559                                                                                                                                                 VISION:   \n",
       "1025  L'Association des étudiants du département français assure la liaison entre les étudiants et les professeurs de français à UTSC . Les membres de c...   \n",
       "1189                                                                                                                    U of T Language Exchange Initiative   \n",
       "1338                                                                                                                                        Testing testing   \n",
       "1349  Hội Sinh Viên Việt Nam Đại Học Toronto (UTVSA) là một tổ chức phi lợi nhuận được thành lập vào năm 1981. Từ khi bắt đầu, hội đã đề ra mục tiêu gìn...   \n",
       "\n",
       "     lang   lang_long  \n",
       "249    sl   Slovenian  \n",
       "349    it     Italian  \n",
       "559    sv     Swedish  \n",
       "1025   fr      French  \n",
       "1189   nl       Dutch  \n",
       "1338   nl       Dutch  \n",
       "1349   vi  Vietnamese  "
      ]
     },
     "execution_count": 21,
     "metadata": {},
     "output_type": "execute_result"
    }
   ],
   "source": [
    "# df.lang.value_counts()\n",
    "df[(df.lang != 'en') & ~df.lang.isna()][['description', 'lang', 'lang_long']]"
   ]
  },
  {
   "cell_type": "markdown",
   "metadata": {},
   "source": [
    "With the exception of one organization description in French and another in Vietnamese, all other descriptions seem to be in English. Not fixing false match languages as they are not long enough for significant analysis."
   ]
  },
  {
   "cell_type": "code",
   "execution_count": 43,
   "metadata": {},
   "outputs": [
    {
     "data": {
      "text/plain": [
       "[('human', 3), ('health', 3), ('related', 2)]"
      ]
     },
     "execution_count": 43,
     "metadata": {},
     "output_type": "execute_result"
    }
   ],
   "source": [
    "t = nltk.tokenize.RegexpTokenizer(r'\\w+')\n",
    "stop_words = set(nltk.corpus.stopwords.words('english'))\n",
    "\n",
    "def top_n_words(text, tokenizer, stop_words, n=5):\n",
    "    word_tokens = tokenizer.tokenize(text.lower())\n",
    "    filtered_tokens = [w for w in word_tokens if not w in stop_words]\n",
    "    return list({k: v for k, v in sorted(Counter(filtered_tokens).items(),\n",
    "                                         key=lambda val: val[1], reverse=True)}.items())[:n]\n"
   ]
  },
  {
   "cell_type": "code",
   "execution_count": 51,
   "metadata": {},
   "outputs": [
    {
     "data": {
      "text/html": [
       "<div>\n",
       "<style scoped>\n",
       "    .dataframe tbody tr th:only-of-type {\n",
       "        vertical-align: middle;\n",
       "    }\n",
       "\n",
       "    .dataframe tbody tr th {\n",
       "        vertical-align: top;\n",
       "    }\n",
       "\n",
       "    .dataframe thead th {\n",
       "        text-align: right;\n",
       "    }\n",
       "</style>\n",
       "<table border=\"1\" class=\"dataframe\">\n",
       "  <thead>\n",
       "    <tr style=\"text-align: right;\">\n",
       "      <th></th>\n",
       "      <th>description_top_words</th>\n",
       "    </tr>\n",
       "  </thead>\n",
       "  <tbody>\n",
       "    <tr>\n",
       "      <th>1049</th>\n",
       "      <td>[(goal, 1), (1, 1), (build, 1), (organize, 1), (community, 1)]</td>\n",
       "    </tr>\n",
       "    <tr>\n",
       "      <th>484</th>\n",
       "      <td>[(hart, 5), (house, 5), (singers, 3), (chorus, 3), (art, 2)]</td>\n",
       "    </tr>\n",
       "    <tr>\n",
       "      <th>944</th>\n",
       "      <td>[(students, 4), (opinions, 3), (meaningful, 2), (aim, 2), (create, 2)]</td>\n",
       "    </tr>\n",
       "    <tr>\n",
       "      <th>24</th>\n",
       "      <td>[(purpose, 1), (amsa, 1), (spread, 1), (awareness, 1), (true, 1)]</td>\n",
       "    </tr>\n",
       "    <tr>\n",
       "      <th>894</th>\n",
       "      <td>[(shaolin, 2), (ancient, 1), (times, 1), (combative, 1), (aspects, 1)]</td>\n",
       "    </tr>\n",
       "  </tbody>\n",
       "</table>\n",
       "</div>"
      ],
      "text/plain": [
       "                                                       description_top_words\n",
       "1049          [(goal, 1), (1, 1), (build, 1), (organize, 1), (community, 1)]\n",
       "484             [(hart, 5), (house, 5), (singers, 3), (chorus, 3), (art, 2)]\n",
       "944   [(students, 4), (opinions, 3), (meaningful, 2), (aim, 2), (create, 2)]\n",
       "24         [(purpose, 1), (amsa, 1), (spread, 1), (awareness, 1), (true, 1)]\n",
       "894   [(shaolin, 2), (ancient, 1), (times, 1), (combative, 1), (aspects, 1)]"
      ]
     },
     "execution_count": 51,
     "metadata": {},
     "output_type": "execute_result"
    }
   ],
   "source": [
    "mask = ~df.description.isna()\n",
    "df.loc[mask, 'description_top_words'] = df[mask].description.apply(lambda x: top_n_words(x, t, stop_words))\n",
    "df.sample(5)[['description_top_words']]"
   ]
  },
  {
   "cell_type": "code",
   "execution_count": 66,
   "metadata": {},
   "outputs": [
    {
     "data": {
      "text/plain": [
       "[('students', 1513),\n",
       " ('university', 793),\n",
       " ('toronto', 682),\n",
       " ('student', 550),\n",
       " ('club', 513),\n",
       " ('community', 512),\n",
       " ('events', 468),\n",
       " ('members', 400),\n",
       " ('group', 373),\n",
       " ('provide', 356)]"
      ]
     },
     "execution_count": 66,
     "metadata": {},
     "output_type": "execute_result"
    }
   ],
   "source": [
    "# 10 most frequent words in entire corpus\n",
    "mask = ~df.description.isna()\n",
    "top_n_words(df[mask].description.sum(), t, stop_words, 10)"
   ]
  },
  {
   "cell_type": "code",
   "execution_count": 73,
   "metadata": {},
   "outputs": [
    {
     "data": {
      "text/html": [
       "<div>\n",
       "<style scoped>\n",
       "    .dataframe tbody tr th:only-of-type {\n",
       "        vertical-align: middle;\n",
       "    }\n",
       "\n",
       "    .dataframe tbody tr th {\n",
       "        vertical-align: top;\n",
       "    }\n",
       "\n",
       "    .dataframe thead th {\n",
       "        text-align: right;\n",
       "    }\n",
       "</style>\n",
       "<table border=\"1\" class=\"dataframe\">\n",
       "  <thead>\n",
       "    <tr style=\"text-align: right;\">\n",
       "      <th></th>\n",
       "      <th>description</th>\n",
       "      <th>description_word_count</th>\n",
       "    </tr>\n",
       "  </thead>\n",
       "  <tbody>\n",
       "    <tr>\n",
       "      <th>879</th>\n",
       "      <td>The Scarborough Model United Nations Conference at UTSC is an organization that is run by a highly motivated staff of undergraduate students that ...</td>\n",
       "      <td>136.0</td>\n",
       "    </tr>\n",
       "    <tr>\n",
       "      <th>529</th>\n",
       "      <td>NaN</td>\n",
       "      <td>NaN</td>\n",
       "    </tr>\n",
       "    <tr>\n",
       "      <th>1334</th>\n",
       "      <td>The purpose of this campaign is to work together every year to make a difference in the lives of those battling cystic fibrosis in Canada. Various...</td>\n",
       "      <td>95.0</td>\n",
       "    </tr>\n",
       "    <tr>\n",
       "      <th>1204</th>\n",
       "      <td>In order to motivate international students in University of Toronto to make friends and to be more connected with the local environment; To enric...</td>\n",
       "      <td>58.0</td>\n",
       "    </tr>\n",
       "    <tr>\n",
       "      <th>83</th>\n",
       "      <td>A Plan International Champion of Change Club at the University of Toronto Mississauga dedicated to promoting girls' rights and gender equality.</td>\n",
       "      <td>21.0</td>\n",
       "    </tr>\n",
       "  </tbody>\n",
       "</table>\n",
       "</div>"
      ],
      "text/plain": [
       "                                                                                                                                                description  \\\n",
       "879   The Scarborough Model United Nations Conference at UTSC is an organization that is run by a highly motivated staff of undergraduate students that ...   \n",
       "529                                                                                                                                                     NaN   \n",
       "1334  The purpose of this campaign is to work together every year to make a difference in the lives of those battling cystic fibrosis in Canada. Various...   \n",
       "1204  In order to motivate international students in University of Toronto to make friends and to be more connected with the local environment; To enric...   \n",
       "83          A Plan International Champion of Change Club at the University of Toronto Mississauga dedicated to promoting girls' rights and gender equality.   \n",
       "\n",
       "      description_word_count  \n",
       "879                    136.0  \n",
       "529                      NaN  \n",
       "1334                    95.0  \n",
       "1204                    58.0  \n",
       "83                      21.0  "
      ]
     },
     "execution_count": 73,
     "metadata": {},
     "output_type": "execute_result"
    }
   ],
   "source": [
    "mask = ~df.description.isna()\n",
    "df.loc[mask, 'description_word_count'] = df[mask].description.apply(lambda x: len(x.split(' ')))\n",
    "df.sample(5)[['description', 'description_word_count']]"
   ]
  },
  {
   "cell_type": "code",
   "execution_count": 74,
   "metadata": {},
   "outputs": [
    {
     "data": {
      "text/plain": [
       "Index(['campus_association', 'org_name', 'organization_type',\n",
       "       'areas_of_interest', 'description', 'renewal_date',\n",
       "       'group_email_address', 'mailing_address', 'primary_contact',\n",
       "       'secondary_contact', 'telephone', 'social', 'website',\n",
       "       'number_of_leaders', 'group_leader_01', 'group_leader_02',\n",
       "       'group_leader_03', 'group_leader_04', 'group_leader_05',\n",
       "       'group_leader_06', 'group_leader_07', 'group_leader_08',\n",
       "       'group_leader_09', 'group_leader_10', 'group_leader_11',\n",
       "       'group_leader_12', 'group_leader_13', 'group_leader_14',\n",
       "       'group_leader_15', 'group_leader_16', 'group_leader_17',\n",
       "       'group_leader_18', 'group_leader_19', 'group_leader_20',\n",
       "       'group_leader_21', 'group_leader_22', 'group_leader_23',\n",
       "       'group_leader_24', 'group_leader_25', 'group_leader_26',\n",
       "       'group_leader_27', 'group_leader_28', 'page_uri', 'lang', 'lang_long',\n",
       "       'lang_score', 'lang_percent', 'lang_confidence',\n",
       "       'description_top_words', 'description_word_count'],\n",
       "      dtype='object')"
      ]
     },
     "execution_count": 74,
     "metadata": {},
     "output_type": "execute_result"
    }
   ],
   "source": [
    "df.columns"
   ]
  },
  {
   "cell_type": "code",
   "execution_count": 75,
   "metadata": {},
   "outputs": [],
   "source": [
    "df.drop(columns=['group_leader_01', 'group_leader_02', 'group_leader_03', 'group_leader_04', 'group_leader_05',\n",
    "       'group_leader_06', 'group_leader_07', 'group_leader_08', 'group_leader_09', 'group_leader_10', \n",
    "       'group_leader_11', 'group_leader_12', 'group_leader_13', 'group_leader_14', 'group_leader_15', \n",
    "       'group_leader_16', 'group_leader_17', 'group_leader_18', 'group_leader_19', 'group_leader_20',\n",
    "       'group_leader_21', 'group_leader_22', 'group_leader_23', 'group_leader_24', 'group_leader_25', \n",
    "       'group_leader_26', 'group_leader_27', 'group_leader_28', 'lang_percent', 'lang_confidence',\n",
    "       'renewal_date','group_email_address', 'mailing_address', 'primary_contact',\n",
    "       'secondary_contact', 'telephone', 'social'], inplace=True)"
   ]
  },
  {
   "cell_type": "code",
   "execution_count": 80,
   "metadata": {},
   "outputs": [],
   "source": [
    "col_order = ['campus_association', 'org_name', 'organization_type', 'areas_of_interest', 'description', \n",
    "             'description_word_count', 'description_top_words','number_of_leaders','lang', 'lang_long', \n",
    "             'lang_score','website', 'page_uri']\n",
    "df = df.reindex(col_order, axis=1)"
   ]
  },
  {
   "cell_type": "code",
   "execution_count": 81,
   "metadata": {},
   "outputs": [
    {
     "data": {
      "text/html": [
       "<div>\n",
       "<style scoped>\n",
       "    .dataframe tbody tr th:only-of-type {\n",
       "        vertical-align: middle;\n",
       "    }\n",
       "\n",
       "    .dataframe tbody tr th {\n",
       "        vertical-align: top;\n",
       "    }\n",
       "\n",
       "    .dataframe thead th {\n",
       "        text-align: right;\n",
       "    }\n",
       "</style>\n",
       "<table border=\"1\" class=\"dataframe\">\n",
       "  <thead>\n",
       "    <tr style=\"text-align: right;\">\n",
       "      <th></th>\n",
       "      <th>campus_association</th>\n",
       "      <th>org_name</th>\n",
       "      <th>organization_type</th>\n",
       "      <th>areas_of_interest</th>\n",
       "      <th>description</th>\n",
       "      <th>description_word_count</th>\n",
       "      <th>description_top_words</th>\n",
       "      <th>number_of_leaders</th>\n",
       "      <th>lang</th>\n",
       "      <th>lang_long</th>\n",
       "      <th>lang_score</th>\n",
       "      <th>website</th>\n",
       "      <th>page_uri</th>\n",
       "    </tr>\n",
       "  </thead>\n",
       "  <tbody>\n",
       "    <tr>\n",
       "      <th>7</th>\n",
       "      <td>St. George</td>\n",
       "      <td>Actuarial Science Club</td>\n",
       "      <td>Recognized Student Group</td>\n",
       "      <td>Academic</td>\n",
       "      <td>The University of Toronto Actuarial Science Club is a student run organization focused on providing a positive experience for those in the Actuari...</td>\n",
       "      <td>53.0</td>\n",
       "      <td>[(actuarial, 3), (science, 3), (club, 2), (program, 2), (university, 1)]</td>\n",
       "      <td>1.0</td>\n",
       "      <td>en</td>\n",
       "      <td>English</td>\n",
       "      <td>248.631133</td>\n",
       "      <td>NaN</td>\n",
       "      <td>https://www.ulife.utoronto.ca/organizations/view/id/2607</td>\n",
       "    </tr>\n",
       "    <tr>\n",
       "      <th>161</th>\n",
       "      <td>St. George</td>\n",
       "      <td>Carbon Cutting Racers</td>\n",
       "      <td>Recognized Student Group</td>\n",
       "      <td>['Environment and Sustainability', 'Hobby and Leisure', 'Work and Career Development']</td>\n",
       "      <td>The Carbon Cutting Racers team redefines the limits of fuel efficiency. The team's goal is to push the boundaries of gasoline vehicle efficiency. ...</td>\n",
       "      <td>88.0</td>\n",
       "      <td>[(vehicle, 4), (team, 3), (fuel, 3), (efficiency, 2), (compete, 2)]</td>\n",
       "      <td>1.0</td>\n",
       "      <td>en</td>\n",
       "      <td>English</td>\n",
       "      <td>352.338168</td>\n",
       "      <td>http://www.carboncutting.skule.ca</td>\n",
       "      <td>https://www.ulife.utoronto.ca/organizations/view/id/2035</td>\n",
       "    </tr>\n",
       "    <tr>\n",
       "      <th>344</th>\n",
       "      <td>Scarborough (UTSC)</td>\n",
       "      <td>Environmental Sustainability Society (ESS)</td>\n",
       "      <td>Recognized Student Group</td>\n",
       "      <td>['Environment and Sustainability', 'Global Interests', 'Social Justice/Advocacy']</td>\n",
       "      <td>We are a group filled with passionate students who care about the environment! We aim to make a positive impact on our university community by rai...</td>\n",
       "      <td>62.0</td>\n",
       "      <td>[(environment, 2), (community, 2), (daily, 2), (group, 1), (filled, 1)]</td>\n",
       "      <td>1.0</td>\n",
       "      <td>en</td>\n",
       "      <td>English</td>\n",
       "      <td>246.424921</td>\n",
       "      <td>NaN</td>\n",
       "      <td>https://www.ulife.utoronto.ca/organizations/view/id/128557</td>\n",
       "    </tr>\n",
       "  </tbody>\n",
       "</table>\n",
       "</div>"
      ],
      "text/plain": [
       "     campus_association                                    org_name  \\\n",
       "7            St. George                      Actuarial Science Club   \n",
       "161          St. George                       Carbon Cutting Racers   \n",
       "344  Scarborough (UTSC)  Environmental Sustainability Society (ESS)   \n",
       "\n",
       "            organization_type  \\\n",
       "7    Recognized Student Group   \n",
       "161  Recognized Student Group   \n",
       "344  Recognized Student Group   \n",
       "\n",
       "                                                                          areas_of_interest  \\\n",
       "7                                                                                  Academic   \n",
       "161  ['Environment and Sustainability', 'Hobby and Leisure', 'Work and Career Development']   \n",
       "344       ['Environment and Sustainability', 'Global Interests', 'Social Justice/Advocacy']   \n",
       "\n",
       "                                                                                                                                               description  \\\n",
       "7    The University of Toronto Actuarial Science Club is a student run organization focused on providing a positive experience for those in the Actuari...   \n",
       "161  The Carbon Cutting Racers team redefines the limits of fuel efficiency. The team's goal is to push the boundaries of gasoline vehicle efficiency. ...   \n",
       "344  We are a group filled with passionate students who care about the environment! We aim to make a positive impact on our university community by rai...   \n",
       "\n",
       "     description_word_count  \\\n",
       "7                      53.0   \n",
       "161                    88.0   \n",
       "344                    62.0   \n",
       "\n",
       "                                                        description_top_words  \\\n",
       "7    [(actuarial, 3), (science, 3), (club, 2), (program, 2), (university, 1)]   \n",
       "161       [(vehicle, 4), (team, 3), (fuel, 3), (efficiency, 2), (compete, 2)]   \n",
       "344   [(environment, 2), (community, 2), (daily, 2), (group, 1), (filled, 1)]   \n",
       "\n",
       "    number_of_leaders lang lang_long  lang_score  \\\n",
       "7                 1.0   en   English  248.631133   \n",
       "161               1.0   en   English  352.338168   \n",
       "344               1.0   en   English  246.424921   \n",
       "\n",
       "                               website  \\\n",
       "7                                  NaN   \n",
       "161  http://www.carboncutting.skule.ca   \n",
       "344                                NaN   \n",
       "\n",
       "                                                       page_uri  \n",
       "7      https://www.ulife.utoronto.ca/organizations/view/id/2607  \n",
       "161    https://www.ulife.utoronto.ca/organizations/view/id/2035  \n",
       "344  https://www.ulife.utoronto.ca/organizations/view/id/128557  "
      ]
     },
     "execution_count": 81,
     "metadata": {},
     "output_type": "execute_result"
    }
   ],
   "source": [
    "df.sample(3)"
   ]
  },
  {
   "cell_type": "code",
   "execution_count": 85,
   "metadata": {},
   "outputs": [
    {
     "name": "stdout",
     "output_type": "stream",
     "text": [
      "Loading student_orgs\n",
      "\n",
      "Saving Excel file...\n"
     ]
    }
   ],
   "source": [
    "from excel_helper import xlsx_exporter\n",
    "\n",
    "xlsx_exporter({'student_orgs': df}, 'datasets/edu/uoft_sudent_organizations_cleaned.xlsx')"
   ]
  },
  {
   "cell_type": "code",
   "execution_count": 86,
   "metadata": {},
   "outputs": [],
   "source": [
    "df.to_csv('datasets/edu/uoft_sudent_organizations_cleaned.tsv', sep='\\t', index=False)"
   ]
  }
 ],
 "metadata": {
  "kernelspec": {
   "display_name": "Python 3",
   "language": "python",
   "name": "python3"
  },
  "language_info": {
   "codemirror_mode": {
    "name": "ipython",
    "version": 3
   },
   "file_extension": ".py",
   "mimetype": "text/x-python",
   "name": "python",
   "nbconvert_exporter": "python",
   "pygments_lexer": "ipython3",
   "version": "3.6.10"
  }
 },
 "nbformat": 4,
 "nbformat_minor": 2
}

{
 "cells": [
  {
   "cell_type": "code",
   "execution_count": 1,
   "metadata": {},
   "outputs": [
    {
     "name": "stdout",
     "output_type": "stream",
     "text": [
      "Proxy IP: OK\n",
      "200 24feb8feaab0ad9916e8d73af3ea51a0\r"
     ]
    }
   ],
   "source": [
    "import requests, re, json\n",
    "import scrape_utils as su\n",
    "\n",
    "proxy = open('proxy_ip.txt', 'r').read().strip()\n",
    "\n",
    "s = requests.Session()\n",
    "s.proxies.update(su.proxy_dict(proxy))\n",
    "s.headers.update(json.loads(open('headers.json', 'r').read()))\n",
    "su.verify_session_proxy(s)\n",
    "\n",
    "base_url = 'https://www.ulife.utoronto.ca'\n",
    "start_page = base_url + '/organizations'\n",
    "\n",
    "soup = su.visit_uri(start_page, s)\n",
    "listing_urls = [base_url + link['href'] for link in soup.select('#main.internal p .alphaLinks')]"
   ]
  },
  {
   "cell_type": "code",
   "execution_count": 5,
   "metadata": {},
   "outputs": [
    {
     "name": "stdout",
     "output_type": "stream",
     "text": [
      "<C> 07fa8c29c31d611962365a9ab30a9be7.html\r",
      "<C> f4fb0a6611ff4d58c6abf16660ce0af8.html\r",
      "<C> 70cf5218e707f115b4a169aa89e39a7d.html\r",
      "<C> e59ef31e7974bf551da67fa74c9ace8d.html\r",
      "<C> f0cbfce32ec23b8ec3ff338f8267b59b.html\r"
     ]
    }
   ],
   "source": [
    "listing_pages = {}\n",
    "wait_element = '#main.internal .listingNav .rowCount'\n",
    "base_listing_uri = start_page + '/list/alpha/{}/page/{}/type/all'\n",
    "\n",
    "for listing in listing_urls:\n",
    "    key = listing.split('/')[-1]\n",
    "    try:\n",
    "        soup = su.validate_and_cache_page(s, listing, wait_element)\n",
    "        nav_text = soup.select_one(wait_element).text.strip()\n",
    "        res_count = int(re.search('of (\\d+)',nav_text).group(1))\n",
    "        max_page = -(-res_count // 25)\n",
    "        listing_pages[key] = {\n",
    "            'results': res_count,\n",
    "            'pages': [base_listing_uri.format(key, i + 1) for i in range(max_page)]\n",
    "        }\n",
    "    except Exception as e:\n",
    "        print('ERR!', e) "
   ]
  },
  {
   "cell_type": "code",
   "execution_count": 8,
   "metadata": {
    "scrolled": true
   },
   "outputs": [
    {
     "name": "stdout",
     "output_type": "stream",
     "text": [
      "<C> 49baae882a8b98ffa02c66d863d9101e.html\n",
      "Captured 1401 organizarion URIs\n"
     ]
    }
   ],
   "source": [
    "org_pages = {}\n",
    "wait_element = '#main.internal .manageTable .listing li a'\n",
    "for key in listing_pages:\n",
    "    for url in listing_pages[key]['pages']:\n",
    "        try:\n",
    "            soup = su.validate_and_cache_page(s, url, wait_element)\n",
    "            links = soup.select(wait_element)\n",
    "            for link in links:\n",
    "                org_pages[link.text.strip()] = base_url + link['href']\n",
    "        except Exception as e:\n",
    "            print('ERR!', e)\n",
    "\n",
    "print('\\nCaptured', len(org_pages), 'organizarion URIs')"
   ]
  },
  {
   "cell_type": "code",
   "execution_count": 129,
   "metadata": {},
   "outputs": [
    {
     "name": "stdout",
     "output_type": "stream",
     "text": [
      "<C> 8b6ffabeac1f524acd3d1c0140672dae.html\n",
      "Cached 1401 organizarion URIs\n"
     ]
    }
   ],
   "source": [
    "import pandas as pd\n",
    "\n",
    "df = pd.DataFrame()\n",
    "\n",
    "wait_element = '#main.internal .groupInfo'\n",
    "\n",
    "css = {\n",
    "    'org_name': '#main.internal .detailHeading',\n",
    "    'description': '#main.internal h1 ~div p',\n",
    "    'contacts@dt': '#main.internal .groupInfo .thirdCol:nth-of-type(1) dl',\n",
    "    'org_details@dt': '#main.internal .groupInfo .thirdCol:nth-of-type(2) dl',\n",
    "    'execs@dt': '#main.internal .groupInfo .thirdCol:nth-of-type(3) dl',\n",
    "}\n",
    "\n",
    "\n",
    "for key in org_pages:\n",
    "    url = org_pages[key]\n",
    "    try:\n",
    "        soup = su.validate_and_cache_page(s, url, wait_element)\n",
    "        data = {}\n",
    "        exec_count = 0\n",
    "        for s in css: \n",
    "            if '@' in s:\n",
    "                col, sub_sel = s.split('@')\n",
    "                dl_value = []\n",
    "                for child in soup.select_one(css[s]).findChildren():\n",
    "                    if child.name == 'dt':\n",
    "                        if len(dl_value) > 0:\n",
    "                            if col == 'execs':\n",
    "                                exec_count += 1\n",
    "                                member, position = (dl_key, dl_value)\n",
    "                                data[f'group_leader_{exec_count:02}'] = f'(\"{position}\", \"{member}\")'\n",
    "                            else:\n",
    "                                dl_value = dl_value[0] if (type(dl_value) is list) and (len(dl_value) == 1) else str(dl_value)\n",
    "                                data[dl_key.lower().replace(' ','_')] = dl_value\n",
    "                            dl_value = []\n",
    "                        dl_key = child.text    \n",
    "                    elif child.name == 'dd':\n",
    "                        if dl_key in ['Website', 'Group Email Address']:\n",
    "                            value = child.a['href'] if child.a else ''\n",
    "                            dl_value.append(value)\n",
    "                        else:\n",
    "                            dl_value.append(child.text)\n",
    "            else:\n",
    "                data[s] = soup.select_one(css[s]).text.strip()\n",
    "        data['number_of_leaders'] = exec_count\n",
    "        data['page_uri'] = url\n",
    "        df = df.append(data, ignore_index=True)\n",
    "\n",
    "    except Exception as e:\n",
    "        print('ERR!', e)\n",
    "#         raise e\n",
    "recorded_cols = set(df.columns)\n",
    "print('\\nCached', df.shape[0], 'organizarion URIs')"
   ]
  },
  {
   "cell_type": "code",
   "execution_count": 138,
   "metadata": {},
   "outputs": [
    {
     "name": "stdout",
     "output_type": "stream",
     "text": [
      "(1401, 43)\n"
     ]
    },
    {
     "data": {
      "text/html": [
       "<div>\n",
       "<style scoped>\n",
       "    .dataframe tbody tr th:only-of-type {\n",
       "        vertical-align: middle;\n",
       "    }\n",
       "\n",
       "    .dataframe tbody tr th {\n",
       "        vertical-align: top;\n",
       "    }\n",
       "\n",
       "    .dataframe thead th {\n",
       "        text-align: right;\n",
       "    }\n",
       "</style>\n",
       "<table border=\"1\" class=\"dataframe\">\n",
       "  <thead>\n",
       "    <tr style=\"text-align: right;\">\n",
       "      <th></th>\n",
       "      <th>campus_association</th>\n",
       "      <th>org_name</th>\n",
       "      <th>organization_type</th>\n",
       "      <th>areas_of_interest</th>\n",
       "      <th>description</th>\n",
       "      <th>page_uri</th>\n",
       "    </tr>\n",
       "  </thead>\n",
       "  <tbody>\n",
       "    <tr>\n",
       "      <th>0</th>\n",
       "      <td>Scarborough (UTSC)</td>\n",
       "      <td>A.Taj Aerospace medicine  (A.Taj)</td>\n",
       "      <td>Recognized Student Group</td>\n",
       "      <td>['Academic', 'Global Interests', 'Media']</td>\n",
       "      <td>In my opinion human race is really behind in research related to our health in space as we are mainly focusing on human health on earth.\\nOur association will mainly focus on human health in space...</td>\n",
       "      <td>https://www.ulife.utoronto.ca/organizations/view/id/128278</td>\n",
       "    </tr>\n",
       "    <tr>\n",
       "      <th>1</th>\n",
       "      <td>St. George</td>\n",
       "      <td>Academia Musica Historica (AMH)</td>\n",
       "      <td>Recognized Student Group</td>\n",
       "      <td>['Academic', 'Arts', 'Social']</td>\n",
       "      <td>The purpose of ‘Academia Musica Historica’ is aimed at bringing together students with a common interest in historical music here at the University of Toronto. As a group we aim to provide opportu...</td>\n",
       "      <td>https://www.ulife.utoronto.ca/organizations/view/id/128422</td>\n",
       "    </tr>\n",
       "    <tr>\n",
       "      <th>2</th>\n",
       "      <td>St. George</td>\n",
       "      <td>Academic Alliance at the University of Toronto</td>\n",
       "      <td>Recognized Student Group</td>\n",
       "      <td>['Academic', 'Community Service', 'Social Justice/Advocacy']</td>\n",
       "      <td>Academic Alliance at the University of Toronto aims to provide immediate front-line peer support to students who are struggling academically at the University of Toronto. We offer a wide range of ...</td>\n",
       "      <td>https://www.ulife.utoronto.ca/organizations/view/id/128050</td>\n",
       "    </tr>\n",
       "    <tr>\n",
       "      <th>3</th>\n",
       "      <td>St. George</td>\n",
       "      <td>Academic Trivia Club</td>\n",
       "      <td>Recognized Student Group</td>\n",
       "      <td>['Academic', 'Hobby and Leisure']</td>\n",
       "      <td>The University of Toronto Academic Trivia Club provides a fun and casual forum for students and members of the university community in general to play and practice quizbowl -- a team-based trivia ...</td>\n",
       "      <td>https://www.ulife.utoronto.ca/organizations/view/id/3070</td>\n",
       "    </tr>\n",
       "    <tr>\n",
       "      <th>4</th>\n",
       "      <td>Mississauga (UTM)</td>\n",
       "      <td>Accounting Association (UTMAA)</td>\n",
       "      <td>Recognized Student Group</td>\n",
       "      <td>['Academic', 'Leadership', 'Work and Career Development']</td>\n",
       "      <td>The Board of Ambassadors (BoA) is comprised of top business students from over 20 university and college campuses across Ontario and acts as an advisory and advocacy group for the Chartered Profes...</td>\n",
       "      <td>https://www.ulife.utoronto.ca/organizations/view/id/128514</td>\n",
       "    </tr>\n",
       "  </tbody>\n",
       "</table>\n",
       "</div>"
      ],
      "text/plain": [
       "   campus_association                                        org_name  \\\n",
       "0  Scarborough (UTSC)               A.Taj Aerospace medicine  (A.Taj)   \n",
       "1          St. George                 Academia Musica Historica (AMH)   \n",
       "2          St. George  Academic Alliance at the University of Toronto   \n",
       "3          St. George                            Academic Trivia Club   \n",
       "4   Mississauga (UTM)                  Accounting Association (UTMAA)   \n",
       "\n",
       "          organization_type  \\\n",
       "0  Recognized Student Group   \n",
       "1  Recognized Student Group   \n",
       "2  Recognized Student Group   \n",
       "3  Recognized Student Group   \n",
       "4  Recognized Student Group   \n",
       "\n",
       "                                              areas_of_interest  \\\n",
       "0                     ['Academic', 'Global Interests', 'Media']   \n",
       "1                                ['Academic', 'Arts', 'Social']   \n",
       "2  ['Academic', 'Community Service', 'Social Justice/Advocacy']   \n",
       "3                             ['Academic', 'Hobby and Leisure']   \n",
       "4     ['Academic', 'Leadership', 'Work and Career Development']   \n",
       "\n",
       "                                                                                                                                                                                               description  \\\n",
       "0  In my opinion human race is really behind in research related to our health in space as we are mainly focusing on human health on earth.\\nOur association will mainly focus on human health in space...   \n",
       "1  The purpose of ‘Academia Musica Historica’ is aimed at bringing together students with a common interest in historical music here at the University of Toronto. As a group we aim to provide opportu...   \n",
       "2  Academic Alliance at the University of Toronto aims to provide immediate front-line peer support to students who are struggling academically at the University of Toronto. We offer a wide range of ...   \n",
       "3  The University of Toronto Academic Trivia Club provides a fun and casual forum for students and members of the university community in general to play and practice quizbowl -- a team-based trivia ...   \n",
       "4  The Board of Ambassadors (BoA) is comprised of top business students from over 20 university and college campuses across Ontario and acts as an advisory and advocacy group for the Chartered Profes...   \n",
       "\n",
       "                                                     page_uri  \n",
       "0  https://www.ulife.utoronto.ca/organizations/view/id/128278  \n",
       "1  https://www.ulife.utoronto.ca/organizations/view/id/128422  \n",
       "2  https://www.ulife.utoronto.ca/organizations/view/id/128050  \n",
       "3    https://www.ulife.utoronto.ca/organizations/view/id/3070  \n",
       "4  https://www.ulife.utoronto.ca/organizations/view/id/128514  "
      ]
     },
     "execution_count": 138,
     "metadata": {},
     "output_type": "execute_result"
    }
   ],
   "source": [
    "col_order = ['campus_association','org_name','organization_type','areas_of_interest','description',\n",
    " 'renewal_date','group_email_address','mailing_address','primary_contact','secondary_contact',\n",
    " 'telephone','social','website', 'number_of_leaders']\n",
    "group_leader_cols = sorted([col for col in df.columns if 'group_leader' in col])\n",
    "col_order = col_order + group_leader_cols + ['page_uri']\n",
    "assert len(recorded_cols - set(col_order)) == 0\n",
    "\n",
    "df = df.reindex(col_order, axis=1)\n",
    "\n",
    "print(df.shape)\n",
    "show_cols = ['campus_association','org_name','organization_type','areas_of_interest','description','page_uri']\n",
    "df.head()[show_cols]"
   ]
  },
  {
   "cell_type": "code",
   "execution_count": 112,
   "metadata": {},
   "outputs": [
    {
     "data": {
      "text/plain": [
       "Academic                                                                67\n",
       "['Academic', 'Leadership', 'Work and Career Development']               50\n",
       "['Community Service', 'Global Interests', 'Social Justice/Advocacy']    32\n",
       "Student Governments Unions and Councils                                 31\n",
       "['Academic', 'Social', 'Work and Career Development']                   25\n",
       "Name: areas_of_interest, dtype: int64"
      ]
     },
     "execution_count": 112,
     "metadata": {},
     "output_type": "execute_result"
    }
   ],
   "source": [
    "df.areas_of_interest.value_counts().head()"
   ]
  },
  {
   "cell_type": "code",
   "execution_count": 128,
   "metadata": {
    "scrolled": true
   },
   "outputs": [
    {
     "data": {
      "image/png": "[encoded data removed]",
      "text/plain": [
       "<Figure size 864x360 with 1 Axes>"
      ]
     },
     "metadata": {
      "needs_background": "light"
     },
     "output_type": "display_data"
    }
   ],
   "source": [
    "df.campus_association.hist(figsize=(12,5));"
   ]
  },
  {
   "cell_type": "code",
   "execution_count": 127,
   "metadata": {},
   "outputs": [
    {
     "data": {
      "image/png": "[encoded data removed]",
      "text/plain": [
       "<Figure size 864x360 with 1 Axes>"
      ]
     },
     "metadata": {
      "needs_background": "light"
     },
     "output_type": "display_data"
    }
   ],
   "source": [
    "df.organization_type.hist(figsize=(12,5));"
   ]
  },
  {
   "cell_type": "code",
   "execution_count": 96,
   "metadata": {},
   "outputs": [
    {
     "data": {
      "text/plain": [
       "305    https://www.ulife.utoronto.ca/organizations/view/id/2817\n",
       "Name: page_uri, dtype: object"
      ]
     },
     "execution_count": 96,
     "metadata": {},
     "output_type": "execute_result"
    }
   ],
   "source": [
    "df[df.campus_association=='[\\'St. George\\', \\'Scarborough (UTSC)\\']'].page_uri"
   ]
  },
  {
   "cell_type": "code",
   "execution_count": 139,
   "metadata": {},
   "outputs": [
    {
     "name": "stdout",
     "output_type": "stream",
     "text": [
      "-rw-r--r--  1 onzo  staff   1.2M 25 Feb 15:19 datasets/edu/uoft_sudent_organizations.tsv\r\n"
     ]
    }
   ],
   "source": [
    "export_file = 'datasets/edu/uoft_sudent_organizations.tsv'\n",
    "df.to_csv(export_file, sep='\\t', index=False)\n",
    "!ls -lh {export_file}"
   ]
  },
  {
   "cell_type": "code",
   "execution_count": 140,
   "metadata": {},
   "outputs": [
    {
     "name": "stdout",
     "output_type": "stream",
     "text": [
      "Loading student_orgs\n",
      "\n",
      "Saving Excel file...\n"
     ]
    }
   ],
   "source": [
    "from excel_helper import xlsx_exporter\n",
    "\n",
    "xlsx_exporter({'student_orgs': df}, 'datasets/edu/uoft_sudent_organizations_cleaned.xlsx')"
   ]
  }
 ],
 "metadata": {
  "kernelspec": {
   "display_name": "Python 3",
   "language": "python",
   "name": "python3"
  },
  "language_info": {
   "codemirror_mode": {
    "name": "ipython",
    "version": 3
   },
   "file_extension": ".py",
   "mimetype": "text/x-python",
   "name": "python",
   "nbconvert_exporter": "python",
   "pygments_lexer": "ipython3",
   "version": "3.6.10"
  }
 },
 "nbformat": 4,
 "nbformat_minor": 2
}
